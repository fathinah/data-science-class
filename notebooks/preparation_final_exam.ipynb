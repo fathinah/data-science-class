{
  "nbformat": 4,
  "nbformat_minor": 0,
  "metadata": {
    "colab": {
      "name": "preparation-final-exam.ipynb",
      "provenance": [],
      "mount_file_id": "1q0PFkG6OqqTOUWww88HQNjwS-pduMydS",
      "authorship_tag": "ABX9TyOcrsA494kQi3yVERZOx456"
    },
    "kernelspec": {
      "name": "python3",
      "display_name": "Python 3"
    },
    "language_info": {
      "name": "python"
    }
  },
  "cells": [
    {
      "cell_type": "markdown",
      "metadata": {
        "id": "TgXKayKfTROp"
      },
      "source": [
        "# DATA SCIENCE FINAL EXAM 2019/2020 REWORK \n",
        "\n",
        "---\n",
        "\n"
      ]
    },
    {
      "cell_type": "code",
      "metadata": {
        "id": "wyhTvX95Wlb7"
      },
      "source": [
        ""
      ],
      "execution_count": null,
      "outputs": []
    }
  ]
}